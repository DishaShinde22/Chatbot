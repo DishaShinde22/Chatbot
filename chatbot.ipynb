{
  "cells": [
    {
      "cell_type": "markdown",
      "metadata": {
        "id": "view-in-github",
        "colab_type": "text"
      },
      "source": [
        "<a href=\"https://colab.research.google.com/github/DishaShinde22/Chatbot/blob/main/chatbot.ipynb\" target=\"_parent\"><img src=\"https://colab.research.google.com/assets/colab-badge.svg\" alt=\"Open In Colab\"/></a>"
      ]
    },
    {
      "cell_type": "markdown",
      "source": [
        "## Langgraph Chatbot"
      ],
      "metadata": {
        "id": "dLoMNbApMqFC"
      }
    },
    {
      "cell_type": "code",
      "execution_count": null,
      "metadata": {
        "id": "jHGSAsx8izfl"
      },
      "outputs": [],
      "source": [
        "from langchain_community.tools import ArxivQueryRun,WikipediaQueryRun\n",
        "from langchain_community.utilities import WikipediaAPIWrapper, ArxivAPIWrapper\n",
        "# tools and utility class to search and retriev data from Arxiv and Wikipedia(that need to query external sources)"
      ]
    },
    {
      "cell_type": "code",
      "execution_count": null,
      "metadata": {
        "colab": {
          "base_uri": "https://localhost:8080/"
        },
        "id": "tjZUCR3y5q5J",
        "outputId": "f78adec7-3d4b-454e-e771-eeba18942b41"
      },
      "outputs": [
        {
          "output_type": "stream",
          "name": "stdout",
          "text": [
            "arxiv\n"
          ]
        }
      ],
      "source": [
        "api_wrapper_arxiv=ArxivAPIWrapper(top_k_results=2,doc_content_chars_max=500) # Creates an API wrapper to query arXiv, limited to 2 results, each truncated to 500 characters.\n",
        "arxiv=ArxivQueryRun(api_wrapper=api_wrapper_arxiv,description=\"Query arxiv paper\") # Wraps the API in a LangChain-compatible tool so agents can call it with a natural-language query\n",
        "print(arxiv.name)"
      ]
    },
    {
      "cell_type": "code",
      "execution_count": null,
      "metadata": {
        "id": "VOdOiB4u7LUB",
        "colab": {
          "base_uri": "https://localhost:8080/",
          "height": 87
        },
        "outputId": "3313436c-ed07-44c0-ca4e-2768aa611e21"
      },
      "outputs": [
        {
          "output_type": "execute_result",
          "data": {
            "text/plain": [
              "\"Published: 2024-07-22\\nTitle: Attention Is All You Need But You Don't Need All Of It For Inference of Large Language Models\\nAuthors: Georgy Tyukin, Gbetondji J-S Dovonon, Jean Kaddour, Pasquale Minervini\\nSummary: The inference demand for LLMs has skyrocketed in recent months, and serving\\nmodels with low latencies remains challenging due to the quadratic input length\\ncomplexity of the attention layers. In this work, we investigate the effect of\\ndropping MLP and attention layers at inference time o\""
            ],
            "application/vnd.google.colaboratory.intrinsic+json": {
              "type": "string"
            }
          },
          "metadata": {},
          "execution_count": 13
        }
      ],
      "source": [
        "arxiv.invoke(\"Attention is all you need\") # Arxiv tool is succesfully working"
      ]
    },
    {
      "cell_type": "code",
      "execution_count": null,
      "metadata": {
        "id": "1vanmNYB7b06",
        "colab": {
          "base_uri": "https://localhost:8080/",
          "height": 35
        },
        "outputId": "f997df79-678d-41df-b98b-6380f18792df"
      },
      "outputs": [
        {
          "output_type": "execute_result",
          "data": {
            "text/plain": [
              "'wikipedia'"
            ],
            "application/vnd.google.colaboratory.intrinsic+json": {
              "type": "string"
            }
          },
          "metadata": {},
          "execution_count": 14
        }
      ],
      "source": [
        "api_wrapper_wiki= WikipediaAPIWrapper(top_k_results=2,doc_content_chars_max=500)\n",
        "wiki=WikipediaQueryRun(api_wrapper=api_wrapper_wiki)\n",
        "wiki.name"
      ]
    },
    {
      "cell_type": "markdown",
      "metadata": {
        "id": "hhZo6AS085Tk"
      },
      "source": [
        "Tools are ready, now we need to integrate them in the workflow"
      ]
    },
    {
      "cell_type": "code",
      "execution_count": null,
      "metadata": {
        "id": "p-ihJi-T8adO"
      },
      "outputs": [],
      "source": [
        "import os\n",
        "\n",
        "os.environ[\"TAVILY_API_KEY\"]=\"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\"\n",
        "os.environ[\"GROQ_API_KEY\"]=\"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\"\n",
        "# set api key"
      ]
    },
    {
      "cell_type": "code",
      "execution_count": null,
      "metadata": {
        "id": "VT9L3qaPCzmd"
      },
      "outputs": [],
      "source": [
        "from langchain_tavily import TavilySearch\n",
        "\n",
        "tavily = TavilySearch(\n",
        "    max_results=1,\n",
        "    topic=\"general\",\n",
        "    # include_answer=False,\n",
        "    # include_raw_content=False,\n",
        "    # include_images=False,\n",
        "    # include_image_descriptions=False,\n",
        "    # search_depth=\"basic\",\n",
        "    # time_range=\"day\",\n",
        "    # include_domains=None,\n",
        "    # exclude_domains=None\n",
        ")\n",
        "# It creates a tool that lets a LangChain agent query arXiv using natural language and get paper summaries."
      ]
    },
    {
      "cell_type": "code",
      "execution_count": null,
      "metadata": {
        "id": "FSCCGsllDHA2",
        "colab": {
          "base_uri": "https://localhost:8080/"
        },
        "outputId": "13e2188e-8d79-4724-fb73-caecd8f186b7"
      },
      "outputs": [
        {
          "output_type": "execute_result",
          "data": {
            "text/plain": [
              "{'query': 'What happened at the last wimbledon',\n",
              " 'follow_up_questions': None,\n",
              " 'answer': None,\n",
              " 'images': [],\n",
              " 'results': [{'title': 'Injuries are adding up at Wimbledon and determining the outcomes of ...',\n",
              "   'url': 'https://apnews.com/article/wimbledon-djokovic-rain-injuries-slipping-1963887a00cdbcabb4d7ea9492028245',\n",
              "   'content': '![Image 8: Lorenzo Musetti of Italy falls to the ground as he celebrates after defeating Giovanni Mpetshi Perricard of France in their fourth round match at the Wimbledon tennis championships in London, Monday, July 8, 2024. ![Image 10: Taylor Fritz of the United States falls as he attempts to make a backhand return to Alexander Zverev of Germany during their fourth round match at the Wimbledon tennis championships in London, Monday, July 8, 2024. ![Image 16: Lorenzo Musetti of Italy falls to the ground as he celebrates after defeating Giovanni Mpetshi Perricard of France in their fourth round match at the Wimbledon tennis championships in London, Monday, July 8, 2024.',\n",
              "   'score': 0.42391166,\n",
              "   'raw_content': None}],\n",
              " 'response_time': 1.57}"
            ]
          },
          "metadata": {},
          "execution_count": 21
        }
      ],
      "source": [
        "tavily.invoke({\"query\": \"What happened at the last wimbledon\"})"
      ]
    },
    {
      "cell_type": "code",
      "execution_count": null,
      "metadata": {
        "id": "8CeetcdWDqC8"
      },
      "outputs": [],
      "source": [
        "tools=[arxiv, wiki, tavily] #  list of tools that a LangGraph agent can use to answer queries by calling external sources"
      ]
    },
    {
      "cell_type": "code",
      "execution_count": null,
      "metadata": {
        "id": "o5wE-T2zDyQV"
      },
      "outputs": [],
      "source": [
        "## initialise the LLM model\n",
        "from langchain_groq import ChatGroq\n",
        "\n",
        "llm=ChatGroq(model=\"qwen-qwq-32b\")"
      ]
    },
    {
      "cell_type": "code",
      "execution_count": null,
      "metadata": {
        "id": "HKx4PphoEq1T",
        "colab": {
          "base_uri": "https://localhost:8080/"
        },
        "outputId": "3546a747-36be-43a1-f595-30383852c5ca"
      },
      "outputs": [
        {
          "output_type": "execute_result",
          "data": {
            "text/plain": [
              "AIMessage(content='\\n<think>\\nOkay, I need to explain what AI is. Let me start by recalling what I know. AI stands for Artificial Intelligence, right? It\\'s a broad field, so I should break it down. Maybe start with a simple definition. AI refers to machines or systems that can perform tasks that typically require human intelligence. \\n\\nHmm, but what are those tasks exactly? Things like problem-solving, learning, perception, understanding language, recognizing patterns. Oh, right, and decision-making. I should mention different types of AI. There\\'s weak AI and strong AI. Weak AI is designed for specific tasks, like voice assistants or image recognition. Strong AI would be more general, capable of any intellectual task a human can do, but that\\'s more theoretical.\\n\\nWait, maybe I should explain the main approaches to AI. Machine learning comes to mind. That\\'s a subset of AI where systems learn from data. Then there\\'s deep learning, which uses neural networks. Natural Language Processing (NLP) is another area, dealing with understanding and generating human language. Robotics might also be part of AI, combining perception and action.\\n\\nApplications are important too. Examples like recommendation systems on Netflix or Amazon, voice assistants like Siri or Alexa, self-driving cars, medical diagnosis tools, and chatbots. These examples help make it concrete. Also, mention recent advancements like GPT-4 and DALL-E, which handle text and images respectively.\\n\\nI should also touch on how AI works. Maybe mention algorithms that parse data, learn from it, and make decisions. The difference between supervised, unsupervised, and reinforcement learning? Maybe that\\'s getting too technical, but it\\'s useful to explain briefly.\\n\\nEthical considerations are key now. Issues like bias in AI systems, privacy concerns, job displacement, and the need for regulation. It\\'s important to highlight both the benefits and the potential risks.\\n\\nWait, maybe start with the general definition, then break down into categories, explain how it\\'s applied, and discuss implications. Keep it structured. Let me check if I\\'m missing anything. The Turing Test is a classic way to determine if a machine can exhibit human-like intelligence. That\\'s a good point to include.\\n\\nAlso, the difference between AI, machine learning, and deep learning. Sometimes people confuse them. So clarifying that machine learning is a subset of AI, and deep learning is a subset of ML. That helps in understanding the hierarchy.\\n\\nExamples of AI in daily life can make it relatable. Like spam filters in emails use AI, facial recognition on smartphones, or even navigation apps like Google Maps using some AI for traffic prediction.\\n\\nHmm, maybe mention the history briefly? Like how AI started in the 1950s with the Dartmouth Conference, then went through periods of hype and disappointment (AI winters), and now the resurgence due to big data and better computing power.\\n\\nWait, the user might not need the history, but a bit of context could help. But the question is \"what is AI,\" so maybe focus more on the present and definitions.\\n\\nI should also define key terms like neural networks, supervised learning, etc., but in simple terms. For instance, neural networks are inspired by the human brain, with layers of nodes processing information.\\n\\nPotential risks: over-reliance on AI, security issues (AI systems being hacked), and the ethical dilemma of autonomous weapons or biased algorithms in hiring or law enforcement.\\n\\nAlright, putting it all together in a coherent way. Start with the definition, types, how it works, applications, and then the implications. Make sure it\\'s clear and not too jargon-heavy. Let me structure it step by step.\\n</think>\\n\\n**Artificial Intelligence (AI)** is a branch of computer science that focuses on creating systems capable of performing tasks that typically require human intelligence. These tasks include learning, reasoning, problem-solving, perception, language understanding, and decision-making. AI systems can be categorized and explained as follows:\\n\\n---\\n\\n### **1. Types of AI**\\n- **Narrow (Weak) AI**: Designed for specific, narrow tasks.  \\n  - *Examples*: Voice assistants (Siri, Alexa), recommendation systems (Netflix), spam filters, and self-driving cars.  \\n  - These systems excel in one domain but lack broader cognitive abilities.\\n\\n- **General (Strong) AI**: Hypothetical systems with human-like intelligence, capable of understanding, learning, and applying knowledge across any domain.  \\n  - *Status*: Still largely theoretical; current technology is not yet capable of achieving this.\\n\\n---\\n\\n### **2. Core Technologies & Techniques**\\n- **Machine Learning (ML)**: A subset of AI where systems learn patterns from data to make predictions or decisions.  \\n  - *Types*:  \\n    - **Supervised Learning**: Uses labeled data (e.g., predicting house prices using past sales data).  \\n    - **Unsupervised Learning**: Finds patterns in unlabeled data (e.g., customer segmentation).  \\n    - **Reinforcement Learning**: Learns by trial and error, receiving rewards for successful actions (e.g., game-playing AIs like AlphaGo).\\n\\n- **Deep Learning**: A subset of ML using **neural networks** with multiple layers (deep architectures) to model complex patterns.  \\n  - *Applications*: Image and speech recognition, natural language processing (NLP), and autonomous vehicles.\\n\\n- **Natural Language Processing (NLP)**: Enables machines to understand, interpret, and generate human language.  \\n  - *Examples*: Chatbots, translation tools (Google Translate), and AI models like GPT-4.\\n\\n- **Computer Vision**: Allows machines to interpret visual data (images/videos).  \\n  - *Examples*: Facial recognition, medical imaging analysis, and robotics.\\n\\n---\\n\\n### **3. Applications of AI**\\n- **Daily Life**:  \\n  - Voice assistants (e.g., Alexa), recommendation systems (e.g., Spotify), and smart home devices.  \\n- **Healthcare**:  \\n  - Diagnosing diseases, drug discovery (e.g., AlphaFold predicting protein structures).  \\n- **Business**:  \\n  - Customer service chatbots, fraud detection, and predictive analytics.  \\n- **Entertainment**:  \\n  - AI-generated art (e.g., DALL-E), video game NPCs, and personalized content.  \\n- **Advanced Research**:  \\n  - Climate modeling, space exploration (e.g., Mars rovers), and quantum computing.\\n\\n---\\n\\n### **4. How AI Works**\\n- **Data Input**: AI systems rely on large datasets to learn from examples.  \\n- **Algorithms**: Mathematical models (e.g., neural networks) process data to identify patterns.  \\n- **Training**: Systems adjust parameters (via backpropagation) to improve accuracy.  \\n- **Decision-Making**: Uses learned patterns to make predictions or take actions (e.g., recommending a movie or detecting spam).\\n\\n---\\n\\n### **5. Key Concepts**\\n- **Neural Networks**: Inspired by the human brain, these interconnected nodes process information in layers (input, hidden, output).  \\n- **Training vs. Inference**:  \\n  - *Training*: The process of adjusting the model using data.  \\n  - *Inference*: Applying the trained model to new, unseen data to make decisions.\\n\\n---\\n\\n### **6. Challenges & Ethical Considerations**\\n- **Bias & Fairness**: AI can inherit biases from training data, leading to unfair outcomes (e.g., biased hiring algorithms).  \\n- **Privacy**: Data collection for training models raises privacy concerns.  \\n- **Job Displacement**: Automation may replace certain human roles (e.g., manufacturing, customer service).  \\n- **Safety & Security**: Risks include adversarial attacks (hacking AI systems) or unintended consequences (e.g., autonomous weapons).  \\n- **Transparency**: \"Black box\" models (those whose decision-making is unclear) require interpretability.  \\n\\n---\\n\\n### **7. Historical Context**\\n- **Origins**: The term \"Artificial Intelligence\" was coined in 1956 at the Dartmouth Conference.  \\n- **Advances**: Recent breakthroughs (since the 2010s) stem from big data, improved algorithms, and faster computing (e.g., GPUs).\\n\\n---\\n\\n### **8. The Turing Test**\\n- A test proposed by Alan Turing to determine if a machine can exhibit human-like intelligence in conversation.  \\n- Modern AI systems like chatbots aim to pass this test, though debates continue about true \"intelligence.\"\\n\\n---\\n\\n### **9. Future Directions**\\n- **AGI (Artificial General Intelligence)**: The pursuit of machines that can perform *any* intellectual task a human can.  \\n- **Ethical AI**: Developing frameworks for fairness, accountability, and transparency.  \\n- **AI for Good**: Addressing global challenges like climate change, healthcare, and education.\\n\\n---\\n\\n### **Summary**\\nAI is a transformative technology that empowers machines to learn, reason, and make decisions. While it has revolutionized industries and daily life, its development must be guided by ethical considerations to ensure benefits outweigh risks. As AI continues to evolve, its integration into society demands careful oversight and innovation.', additional_kwargs={}, response_metadata={'token_usage': {'completion_tokens': 1848, 'prompt_tokens': 13, 'total_tokens': 1861, 'completion_time': 4.504201034, 'prompt_time': 0.002878017, 'queue_time': 0.014818801, 'total_time': 4.507079051}, 'model_name': 'qwen-qwq-32b', 'system_fingerprint': 'fp_512a3da6bb', 'finish_reason': 'stop', 'logprobs': None}, id='run-4d8d9e5d-831e-4938-a5bc-16e96844eb58-0', usage_metadata={'input_tokens': 13, 'output_tokens': 1848, 'total_tokens': 1861})"
            ]
          },
          "metadata": {},
          "execution_count": 24
        }
      ],
      "source": [
        "llm.invoke(\"What is AI\")"
      ]
    },
    {
      "cell_type": "code",
      "execution_count": null,
      "metadata": {
        "id": "a4B5OCsUIAeW"
      },
      "outputs": [],
      "source": [
        "llm_with_tools=llm.bind_tools(tools=tools) # This line binds the list of external tools to the LLM so it can call them when needed during reasoning or answering queries."
      ]
    },
    {
      "cell_type": "code",
      "execution_count": null,
      "metadata": {
        "id": "vTHdGM_OIORl",
        "colab": {
          "base_uri": "https://localhost:8080/"
        },
        "outputId": "68222a2a-568a-4995-fdfe-4395968f22a3"
      },
      "outputs": [
        {
          "output_type": "execute_result",
          "data": {
            "text/plain": [
              "AIMessage(content='', additional_kwargs={'tool_calls': [{'id': 'call_s2r7', 'function': {'arguments': '{\"query\": \"recent news on AI\", \"topic\": \"news\", \"time_range\": \"day\", \"search_depth\": \"advanced\"}', 'name': 'tavily_search'}, 'type': 'function'}]}, response_metadata={'token_usage': {'completion_tokens': 392, 'prompt_tokens': 1298, 'total_tokens': 1690, 'completion_time': 0.952009557, 'prompt_time': 0.060961893, 'queue_time': 0.024172529999999998, 'total_time': 1.01297145}, 'model_name': 'qwen-qwq-32b', 'system_fingerprint': 'fp_3796682456', 'finish_reason': 'tool_calls', 'logprobs': None}, id='run-d2f2a04e-bfc0-49a8-b2bf-4b6e08f02d9f-0', tool_calls=[{'name': 'tavily_search', 'args': {'query': 'recent news on AI', 'topic': 'news', 'time_range': 'day', 'search_depth': 'advanced'}, 'id': 'call_s2r7', 'type': 'tool_call'}], usage_metadata={'input_tokens': 1298, 'output_tokens': 392, 'total_tokens': 1690})"
            ]
          },
          "metadata": {},
          "execution_count": 26
        }
      ],
      "source": [
        "llm_with_tools.invoke(\"What is the recent news on AI\")"
      ]
    },
    {
      "cell_type": "code",
      "execution_count": null,
      "metadata": {
        "id": "yIto8gCEInZZ",
        "colab": {
          "base_uri": "https://localhost:8080/"
        },
        "outputId": "79ad3540-383d-4d6d-a5fb-35620aafca9c"
      },
      "outputs": [
        {
          "output_type": "execute_result",
          "data": {
            "text/plain": [
              "AIMessage(content='', additional_kwargs={'tool_calls': [{'id': 'call_hh0h', 'function': {'arguments': '{\"query\": \"Machine Learning\"}', 'name': 'wikipedia'}, 'type': 'function'}]}, response_metadata={'token_usage': {'completion_tokens': 226, 'prompt_tokens': 1295, 'total_tokens': 1521, 'completion_time': 0.549070804, 'prompt_time': 0.060942743, 'queue_time': 0.026029568999999995, 'total_time': 0.610013547}, 'model_name': 'qwen-qwq-32b', 'system_fingerprint': 'fp_3796682456', 'finish_reason': 'tool_calls', 'logprobs': None}, id='run-72beaa04-e51a-4388-8a59-849521bcd61f-0', tool_calls=[{'name': 'wikipedia', 'args': {'query': 'Machine Learning'}, 'id': 'call_hh0h', 'type': 'tool_call'}], usage_metadata={'input_tokens': 1295, 'output_tokens': 226, 'total_tokens': 1521})"
            ]
          },
          "metadata": {},
          "execution_count": 27
        }
      ],
      "source": [
        "llm_with_tools.invoke(\"What is Machine Learning\")"
      ]
    },
    {
      "cell_type": "markdown",
      "metadata": {
        "id": "fII-8M_GO6C2"
      },
      "source": [
        "## Workflow"
      ]
    },
    {
      "cell_type": "code",
      "execution_count": null,
      "metadata": {
        "id": "pG_OZTypOr9Z"
      },
      "outputs": [],
      "source": [
        "## State workflow\n",
        "from typing_extensions import TypedDict\n",
        "from langchain_core.messages import AnyMessage  # Human Message or AI message\n",
        "from typing import Annotated # labelling\n",
        "from langgraph.graph import add_messages  ## Reducers in langgraph"
      ]
    },
    {
      "cell_type": "code",
      "execution_count": null,
      "metadata": {
        "id": "Nz1CHSboQXoz"
      },
      "outputs": [],
      "source": [
        "class State(TypedDict):\n",
        "  messages: Annotated[list[AnyMessage],add_messages]\n",
        "# State class where messages is a list of chat messages (AnyMessage), and each time the state updates, new messages are appended using the add_messages merge strategy—ideal for tracking conversation history in LangGraph.\n",
        "# State class-Describes what pieces of data (like messages, memory, user input) the graph nodes will receive and return."
      ]
    },
    {
      "cell_type": "code",
      "execution_count": null,
      "metadata": {
        "id": "68e3sLR4S1ZR"
      },
      "outputs": [],
      "source": [
        "## Entire Chatbot with langgraph\n",
        "from IPython.display import Image, display\n",
        "from langgraph.graph import StateGraph, START, END\n",
        "from langgraph.prebuilt import ToolNode\n",
        "from langgraph.prebuilt import tools_condition"
      ]
    },
    {
      "cell_type": "markdown",
      "source": [
        "StateGraph: A graph in LangGraph that tracks the flow of state (data) through nodes, managing inputs and outputs between tasks.\n",
        "\n",
        "START: A special node in LangGraph that marks the beginning of a process or flow.\n",
        "\n",
        "END: A special node in LangGraph that signifies the completion of a flow or process.\n",
        "\n",
        "ToolNode: A node in LangGraph that connects an external tool (like an API or service) to the graph for data processing or querying.\n",
        "\n",
        "tools_condition: A function or condition used to control the execution of tools based on certain criteria (e.g., running a tool only if a condition is met)."
      ],
      "metadata": {
        "id": "TIpYCE6bSoaJ"
      }
    },
    {
      "cell_type": "code",
      "execution_count": null,
      "metadata": {
        "id": "NzxdwcjETsHV",
        "colab": {
          "base_uri": "https://localhost:8080/",
          "height": 350
        },
        "outputId": "90496638-ecb8-4fee-d145-5eb9d251e438"
      },
      "outputs": [
        {
          "output_type": "display_data",
          "data": {
            "image/png": "[encoded data removed]",
            "text/plain": [
              "<IPython.core.display.Image object>"
            ]
          },
          "metadata": {}
        }
      ],
      "source": [
        "## Node definiion\n",
        "def tool_calling_llm(state:State):\n",
        "  return {\"messages\":[llm_with_tools.invoke(state[\"messages\"])]}\n",
        "\n",
        "## Build grapgh\n",
        "builder=StateGraph(State)\n",
        "builder.add_node(\"tool_calling_llm\",tool_calling_llm)\n",
        "builder.add_node(\"tools\",ToolNode(tools))\n",
        "\n",
        "## Edges\n",
        "builder.add_edge(START,\"tool_calling_llm\")\n",
        "builder.add_conditional_edges(\n",
        "    \"tool_calling_llm\",\n",
        "    #If the latest message(result) from assistant is a tool call --> tools_condition routes to tools\"\n",
        "    #If the latest message(result) from assistant is not a tool call --> tools_condition routes to END\"\n",
        "    tools_condition,\n",
        ")\n",
        "builder.add_edge(\"tools\",END)\n",
        "\n",
        "graph=builder.compile()\n",
        "\n",
        "# View\n",
        "display(Image(graph.get_graph().draw_mermaid_png()))"
      ]
    },
    {
      "cell_type": "code",
      "source": [
        "messages=graph.invoke({\"messages\":\"1706.03762\"})\n",
        "for m in messages['messages']:\n",
        "  m.pretty_print()\n",
        "# Getting response from the tool"
      ],
      "metadata": {
        "colab": {
          "base_uri": "https://localhost:8080/"
        },
        "id": "TwwxB6BeMIU9",
        "outputId": "307c6bba-43e4-454a-9810-9738079ff30b"
      },
      "execution_count": null,
      "outputs": [
        {
          "output_type": "stream",
          "name": "stdout",
          "text": [
            "================================\u001b[1m Human Message \u001b[0m=================================\n",
            "\n",
            "1706.03762\n",
            "==================================\u001b[1m Ai Message \u001b[0m==================================\n",
            "Tool Calls:\n",
            "  arxiv (call_rzzh)\n",
            " Call ID: call_rzzh\n",
            "  Args:\n",
            "    query: 1706.03762\n",
            "=================================\u001b[1m Tool Message \u001b[0m=================================\n",
            "Name: arxiv\n",
            "\n",
            "Published: 2023-08-02\n",
            "Title: Attention Is All You Need\n",
            "Authors: Ashish Vaswani, Noam Shazeer, Niki Parmar, Jakob Uszkoreit, Llion Jones, Aidan N. Gomez, Lukasz Kaiser, Illia Polosukhin\n",
            "Summary: The dominant sequence transduction models are based on complex recurrent or\n",
            "convolutional neural networks in an encoder-decoder configuration. The best\n",
            "performing models also connect the encoder and decoder through an attention\n",
            "mechanism. We propose a new simple network architecture, the Transformer, base\n"
          ]
        }
      ]
    },
    {
      "cell_type": "code",
      "source": [
        "messages=graph.invoke({\"messages\":\"Hi i am Disha\"})\n",
        "for m in messages['messages']:\n",
        "  m.pretty_print()\n"
      ],
      "metadata": {
        "colab": {
          "base_uri": "https://localhost:8080/"
        },
        "id": "1qsPO1Zm1JiL",
        "outputId": "8f7ca58c-3774-4c39-f6c9-34a7b00bce78"
      },
      "execution_count": null,
      "outputs": [
        {
          "output_type": "stream",
          "name": "stdout",
          "text": [
            "================================\u001b[1m Human Message \u001b[0m=================================\n",
            "\n",
            "Hi i am Disha\n",
            "==================================\u001b[1m Ai Message \u001b[0m==================================\n",
            "\n",
            "Hello Disha! Nice to meet you. How can I assist you today? Feel free to ask me any questions or let me know if you need help with anything specific! 😊\n"
          ]
        }
      ]
    },
    {
      "cell_type": "code",
      "source": [
        "## Node definiion\n",
        "def tool_calling_llm(state:State):\n",
        "  return {\"messages\":[llm_with_tools.invoke(state[\"messages\"])]}\n",
        "\n",
        "## Build grapgh\n",
        "builder=StateGraph(State)\n",
        "builder.add_node(\"tool_calling_llm\",tool_calling_llm)\n",
        "builder.add_node(\"tools\",ToolNode(tools))\n",
        "\n",
        "## Edges\n",
        "builder.add_edge(START,\"tool_calling_llm\")\n",
        "builder.add_conditional_edges(\n",
        "    \"tool_calling_llm\",\n",
        "    #If the latest message(result) from assistant is a tool call --> tools_condition routes to tools\"\n",
        "    #If the latest message(result) from assistant is not a tool call --> tools_condition routes to END\"\n",
        "    tools_condition,\n",
        ")\n",
        "builder.add_edge(\"tools\",\"tool_calling_llm\")\n",
        "\n",
        "graph=builder.compile()\n",
        "\n",
        "# View\n",
        "display(Image(graph.get_graph().draw_mermaid_png()))"
      ],
      "metadata": {
        "colab": {
          "base_uri": "https://localhost:8080/",
          "height": 266
        },
        "id": "h9xgLikr0IOj",
        "outputId": "ecbf02ab-6c60-4fed-bdb7-30dc257c33ef"
      },
      "execution_count": null,
      "outputs": [
        {
          "output_type": "display_data",
          "data": {
            "image/png": "[encoded data removed]",
            "text/plain": [
              "<IPython.core.display.Image object>"
            ]
          },
          "metadata": {}
        }
      ]
    },
    {
      "cell_type": "code",
      "source": [
        "messages=graph.invoke({\"messages\":\"Hi I am Disha and please tell me the recent reseach paper on Quantum Computing\"})\n",
        "for m in messages['messages']:\n",
        "  m.pretty_print()\n",
        "# Getting this message directly from LLM"
      ],
      "metadata": {
        "colab": {
          "base_uri": "https://localhost:8080/"
        },
        "id": "xob5JBYk0W37",
        "outputId": "ef793057-755c-4c64-a087-0905b01bce2f"
      },
      "execution_count": null,
      "outputs": [
        {
          "output_type": "stream",
          "name": "stdout",
          "text": [
            "================================\u001b[1m Human Message \u001b[0m=================================\n",
            "\n",
            "Hi I am Disha and please tell me the recent reseach paper on Quantum Computing\n",
            "==================================\u001b[1m Ai Message \u001b[0m==================================\n",
            "Tool Calls:\n",
            "  arxiv (call_z7y5)\n",
            " Call ID: call_z7y5\n",
            "  Args:\n",
            "    query: Quantum Computing\n",
            "=================================\u001b[1m Tool Message \u001b[0m=================================\n",
            "Name: arxiv\n",
            "\n",
            "Published: 2022-08-01\n",
            "Title: The Rise of Quantum Internet Computing\n",
            "Authors: Seng W. Loke\n",
            "Summary: This article highlights quantum Internet computing as referring to\n",
            "distributed quantum computing over the quantum Internet, analogous to\n",
            "(classical) Internet computing involving (classical) distributed computing over\n",
            "the (classical) Internet. Relevant to quantum Internet computing would be areas\n",
            "of study such as quantum protocols for distributed nodes using quantum\n",
            "information for computations, qua\n",
            "==================================\u001b[1m Ai Message \u001b[0m==================================\n",
            "\n",
            "Here are some recent research papers and resources on Quantum Computing:\n",
            "\n",
            "1. **ArXiv Result (August 2022)**:  \n",
            "   - **Title**: \"The Rise of Quantum Internet Computing\"  \n",
            "   - **Authors**: Seng W. Loke  \n",
            "   - **Summary**: Discusses distributed quantum computing over the quantum internet, protocols for quantum nodes, and applications.  \n",
            "\n",
            "For **more up-to-date research** (post-2022), I recommend using the Tavily search tool to check the latest papers published in the last month. Would you like me to perform that search for you?\n"
          ]
        }
      ]
    },
    {
      "cell_type": "code",
      "source": [
        "messages=graph.invoke({\"messages\":\"What is the recent AI news and please tell me the recent reseach paper on Quantum Computing\"})\n",
        "for m in messages['messages']:\n",
        "  m.pretty_print()\n"
      ],
      "metadata": {
        "colab": {
          "base_uri": "https://localhost:8080/"
        },
        "id": "h_6-eO5M1Xy8",
        "outputId": "46f43214-5fe2-4a93-f8ad-8508f28ed75d"
      },
      "execution_count": null,
      "outputs": [
        {
          "output_type": "stream",
          "name": "stdout",
          "text": [
            "================================\u001b[1m Human Message \u001b[0m=================================\n",
            "\n",
            "What is the recent AI news and please tell me the recent reseach paper on Quantum Computing\n",
            "==================================\u001b[1m Ai Message \u001b[0m==================================\n",
            "Tool Calls:\n",
            "  tavily_search (call_bdmm)\n",
            " Call ID: call_bdmm\n",
            "  Args:\n",
            "    query: AI news\n",
            "    topic: news\n",
            "    time_range: week\n",
            "    search_depth: advanced\n",
            "  arxiv (call_sf0e)\n",
            " Call ID: call_sf0e\n",
            "  Args:\n",
            "    query: Quantum Computing\n",
            "=================================\u001b[1m Tool Message \u001b[0m=================================\n",
            "Name: tavily_search\n",
            "\n",
            "{\"query\": \"AI news\", \"follow_up_questions\": null, \"answer\": null, \"images\": [], \"results\": [{\"url\": \"https://news.faharas.net/310426/microsofts-most-capable-new-phi/\", \"raw_content\": null, \"title\": \"Microsoft's Phi 4 AI Model Surpasses Expectations, Rivals Larger Systems with Unmatched Performance - Faharas News\", \"score\": 0.61668247, \"published_date\": \"Thu, 01 May 2025 05:22:16 GMT\", \"content\": \"Potential for improved problem-solving in diverse industries.\\nGreater competition in the AI space, driving innovation.\\nThese advancements highlight the growing importance of AI in global technology, making it crucial for businesses to stay updated.\\nAs AI continues to evolve, staying informed about these developments will be vital for anyone looking to leverage technology for growth and innovation.\\nShort Link\\nSam Gupta [...] Microsoft has made waves in the tech world by launching new open AI models that enhance reasoning capabilities. These advancements, announced on 2025-05-01, position Microsoft as a formidable competitor in the AI landscape, particularly against OpenAI’s offerings.\\n6 Key Takeaways\\nMicrosoft launched new open AI models.\\nPhi models focus on reasoning capabilities.\\nPhi 4 mini reasoning targets educational applications.\\nPhi 4 reasoning excels in math and coding.\"}], \"response_time\": 3.73}\n",
            "=================================\u001b[1m Tool Message \u001b[0m=================================\n",
            "Name: arxiv\n",
            "\n",
            "Published: 2022-08-01\n",
            "Title: The Rise of Quantum Internet Computing\n",
            "Authors: Seng W. Loke\n",
            "Summary: This article highlights quantum Internet computing as referring to\n",
            "distributed quantum computing over the quantum Internet, analogous to\n",
            "(classical) Internet computing involving (classical) distributed computing over\n",
            "the (classical) Internet. Relevant to quantum Internet computing would be areas\n",
            "of study such as quantum protocols for distributed nodes using quantum\n",
            "information for computations, qua\n",
            "==================================\u001b[1m Ai Message \u001b[0m==================================\n",
            "\n",
            "Here's the information based on the tools I used:\n",
            "\n",
            "**Recent AI News (as of May 2025):**\n",
            "- **Microsoft's Phi 4 Model Breakthrough**  \n",
            "  Microsoft's Phi 4 AI model demonstrates superior performance in math, coding, and educational applications. Key points:\n",
            "  - Surpasses expectations despite smaller size\n",
            "  - Competes with larger models in reasoning tasks\n",
            "  - Target applications include education and professional coding\n",
            "  - Released alongside Phi 4 Mini for specialized use cases\n",
            "\n",
            "**Recent Quantum Computing Research (Latest ArXiv Findings):**\n",
            "- **\"The Rise of Quantum Internet Computing\" (Aug 2022)**  \n",
            "  While not recent (published in 2022), this paper explores foundational concepts in:\n",
            "  - Distributed quantum computing over quantum networks\n",
            "  - Quantum protocols for node communication\n",
            "  - Hybrid classical-quantum systems\n",
            "  - Security implications of quantum Internet architectures\n",
            "\n",
            "Would you like me to:  \n",
            "1. Look for more recent quantum computing papers (2023-2024) using different search terms?  \n",
            "2. Explain technical aspects of either topic in simpler terms?  \n",
            "3. Find additional sources for either query?  \n",
            "\n",
            "Let me know how I can refine this further!\n"
          ]
        }
      ]
    },
    {
      "cell_type": "code",
      "source": [],
      "metadata": {
        "id": "MUbRNexK0q1j"
      },
      "execution_count": null,
      "outputs": []
    },
    {
      "cell_type": "code",
      "source": [
        "## Node definiion\n",
        "def tool_calling_llm(state:State):\n",
        "  return {\"messages\":[llm_with_tools.invoke(state[\"messages\"])]}\n",
        "\n",
        "## Build grapgh\n",
        "builder=StateGraph(State)\n",
        "builder.add_node(\"tool_calling_llm\",tool_calling_llm)\n",
        "builder.add_node(\"tools\",ToolNode(tools))\n",
        "\n",
        "## Edges\n",
        "builder.add_edge(START,\"tool_calling_llm\")\n",
        "builder.add_conditional_edges(\n",
        "    \"tool_calling_llm\",\n",
        "    #If the latest message(result) from assistant is a tool call --> tools_condition routes to tools\"\n",
        "    #If the latest message(result) from assistant is not a tool call --> tools_condition routes to END\"\n",
        "    tools_condition,\n",
        ")\n",
        "builder.add_edge(\"tools\",\"tool_calling_llm\")\n",
        "\n",
        "graph=builder.compile()\n",
        "\n",
        "# View\n",
        "display(Image(graph.get_graph().draw_mermaid_png()))"
      ],
      "metadata": {
        "colab": {
          "base_uri": "https://localhost:8080/",
          "height": 266
        },
        "outputId": "92db7a10-8e2c-4001-f82a-afb346853ad5",
        "id": "bSteA_gr1EqN"
      },
      "execution_count": null,
      "outputs": [
        {
          "output_type": "display_data",
          "data": {
            "image/png": "[encoded data removed]",
            "text/plain": [
              "<IPython.core.display.Image object>"
            ]
          },
          "metadata": {}
        }
      ]
    },
    {
      "cell_type": "code",
      "source": [],
      "metadata": {
        "id": "1Efd3T8H1uBO"
      },
      "execution_count": null,
      "outputs": []
    }
  ],
  "metadata": {
    "colab": {
      "provenance": [],
      "authorship_tag": "ABX9TyNzMwf4z/zNJpqhQAv9Jbit",
      "include_colab_link": true
    },
    "kernelspec": {
      "display_name": "Python 3",
      "name": "python3"
    },
    "language_info": {
      "name": "python"
    }
  },
  "nbformat": 4,
  "nbformat_minor": 0
}